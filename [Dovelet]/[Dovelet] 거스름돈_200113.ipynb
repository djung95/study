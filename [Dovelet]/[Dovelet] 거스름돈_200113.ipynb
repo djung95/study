{
 "cells": [
  {
   "cell_type": "markdown",
   "metadata": {},
   "source": [
    "#거스름돈"
   ]
  },
  {
   "cell_type": "code",
   "execution_count": 15,
   "metadata": {},
   "outputs": [
    {
     "name": "stdout",
     "output_type": "stream",
     "text": [
      "530\n",
      "4 1 2\n"
     ]
    }
   ],
   "source": [
    "price=int(input())\n",
    "change=1000-price\n",
    "change_hund=change/100\n",
    "change=change-int(change_hund)*100\n",
    "change_fifty=change/50\n",
    "change=change-int(change_fifty)*50\n",
    "change_ten=change/10\n",
    "\n",
    "print(\"%d %d %d\"%(change_hund,change_fifty,change_ten))"
   ]
  },
  {
   "cell_type": "code",
   "execution_count": null,
   "metadata": {},
   "outputs": [],
   "source": []
  }
 ],
 "metadata": {
  "kernelspec": {
   "display_name": "Python 3",
   "language": "python",
   "name": "python3"
  },
  "language_info": {
   "codemirror_mode": {
    "name": "ipython",
    "version": 3
   },
   "file_extension": ".py",
   "mimetype": "text/x-python",
   "name": "python",
   "nbconvert_exporter": "python",
   "pygments_lexer": "ipython3",
   "version": "3.7.4"
  }
 },
 "nbformat": 4,
 "nbformat_minor": 2
}
