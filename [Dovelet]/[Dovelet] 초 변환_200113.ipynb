{
 "cells": [
  {
   "cell_type": "markdown",
   "metadata": {},
   "source": [
    "#초 변환"
   ]
  },
  {
   "cell_type": "code",
   "execution_count": 2,
   "metadata": {},
   "outputs": [
    {
     "name": "stdout",
     "output_type": "stream",
     "text": [
      "70\n",
      "0\n"
     ]
    }
   ],
   "source": [
    "time=int(input())\n",
    "\n",
    "day=int(time/86400)\n",
    "time=time-day*86400\n",
    "hour=inttime/3600\n",
    "time=time-hour*3600\n",
    "min=time/60\n",
    "time=time-min*60\n",
    "sec=time\n",
    "\n",
    "#print(\"%d\"%sec)\n",
    "#print(\"%d %d %d %d\"%(day,hour,min,sec))"
   ]
  },
  {
   "cell_type": "code",
   "execution_count": null,
   "metadata": {},
   "outputs": [],
   "source": []
  }
 ],
 "metadata": {
  "kernelspec": {
   "display_name": "Python 3",
   "language": "python",
   "name": "python3"
  },
  "language_info": {
   "codemirror_mode": {
    "name": "ipython",
    "version": 3
   },
   "file_extension": ".py",
   "mimetype": "text/x-python",
   "name": "python",
   "nbconvert_exporter": "python",
   "pygments_lexer": "ipython3",
   "version": "3.7.4"
  }
 },
 "nbformat": 4,
 "nbformat_minor": 2
}
