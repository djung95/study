{
 "cells": [
  {
   "cell_type": "markdown",
   "metadata": {},
   "source": [
    "#### 파이썬 조건문 기초"
   ]
  },
  {
   "cell_type": "markdown",
   "metadata": {},
   "source": [
    "#### if ~ else 명령"
   ]
  },
  {
   "cell_type": "code",
   "execution_count": 6,
   "metadata": {},
   "outputs": [
    {
     "name": "stdout",
     "output_type": "stream",
     "text": [
      "짝수\n"
     ]
    }
   ],
   "source": [
    "a = 6\n",
    "\n",
    "if a % 2 == 0:\n",
    "    print(\"짝수\")\n",
    "else:\n",
    "    print(\"홀수\")"
   ]
  },
  {
   "cell_type": "code",
   "execution_count": 5,
   "metadata": {},
   "outputs": [
    {
     "name": "stdout",
     "output_type": "stream",
     "text": [
      "2자리 수의 짝수이다.\n"
     ]
    }
   ],
   "source": [
    "b = 56\n",
    "\n",
    "if (b >= 10) & (b < 100) & (b % 2 == 0):\n",
    "    print(\"2자리 수의 짝수이다.\")\n",
    "else:\n",
    "    print(\"2자리 수의 짝수가 아니다.\")"
   ]
  },
  {
   "cell_type": "markdown",
   "metadata": {},
   "source": [
    "#### 연습 문제 3.2.10\n",
    "\n",
    "#### 변수 y의 값이 윤년이면 \"윤년입니다\"를 출력하고 아니라면 \"윤년이 아닙니다\"라고 출력하는 프로그램을 만든다. 윤년은 2월 29일이 있는 해로 다음과 같이 정해진다.\n",
    "#### 서력 기원 연수가 4로 나누어 떨어지는 해는 윤년으로 한다(2004년, 2008년, 2012년, 2016년, 2020년, 2024년, …).\n",
    "#### 이 중에서 100으로 나누어 떨어지는 해는 평년으로 한다(1900년, 2100년, 2200년, 2300년, 2500년, …).\n",
    "#### 이 중에서 400으로 나누어 떨어지는 해는 윤년으로 둔다(1600년, 2000년, 2400년, …)."
   ]
  },
  {
   "cell_type": "code",
   "execution_count": 15,
   "metadata": {},
   "outputs": [
    {
     "name": "stdout",
     "output_type": "stream",
     "text": [
      "윤년이 아닙니다.\n"
     ]
    }
   ],
   "source": [
    "y = 1601\n",
    "\n",
    "if (y % 4 == 0) or (y % 100 == 0) or (y % 400 == 0):\n",
    "    print(\"윤년입니다.\")\n",
    "else:  \n",
    "    print(\"윤년이 아닙니다.\")"
   ]
  },
  {
   "cell_type": "markdown",
   "metadata": {},
   "source": [
    "#### if ~ elif ~ else 명령"
   ]
  },
  {
   "cell_type": "code",
   "execution_count": 18,
   "metadata": {},
   "outputs": [
    {
     "name": "stdout",
     "output_type": "stream",
     "text": [
      "A\n"
     ]
    }
   ],
   "source": [
    "c =  11\n",
    "\n",
    "if c >= 8:\n",
    "    print(\"A\")\n",
    "elif c >= 5:\n",
    "    print(\"B\")\n",
    "elif c < 5:\n",
    "    print(\"C\")"
   ]
  },
  {
   "cell_type": "markdown",
   "metadata": {},
   "source": [
    "#### 연습 문제 3.2.11\n",
    "\n",
    "#### 어떤 농장에서는 수박이 10kg이 넘으면 1등급, 그렇지 않고 7kg이 넘으면 2등급,, 그렇지 않고 4kg이 넘으면 3등급, 나머지는 4등급을 준다고 한다. 이 수박의 등급을 정하는 파이썬 코드를 작성한다."
   ]
  },
  {
   "cell_type": "code",
   "execution_count": 22,
   "metadata": {},
   "outputs": [
    {
     "name": "stdout",
     "output_type": "stream",
     "text": [
      "4등급\n"
     ]
    }
   ],
   "source": [
    "watermelon = 2\n",
    "\n",
    "if watermelon >= 10:\n",
    "    print(\"1등급\")\n",
    "elif watermelon >= 7:\n",
    "    print(\"2등급\")\n",
    "elif watermelon >= 4:\n",
    "    print(\"3등급\")\n",
    "else:\n",
    "    print(\"4등급\")"
   ]
  },
  {
   "cell_type": "markdown",
   "metadata": {},
   "source": [
    "#### 중첩 조건문"
   ]
  },
  {
   "cell_type": "code",
   "execution_count": 6,
   "metadata": {},
   "outputs": [
    {
     "name": "stdout",
     "output_type": "stream",
     "text": [
      "Pass\n"
     ]
    }
   ],
   "source": [
    "gender = \"girl\"\n",
    "pushup = 6\n",
    "\n",
    "if gender == \"boy\":\n",
    "    if pushup >= 10:\n",
    "        grade = \"Pass\"\n",
    "    else:\n",
    "        grade = \"Fail\"\n",
    "else:\n",
    "    if pushup >= 5:\n",
    "        grade = \"Pass\"\n",
    "    else:\n",
    "        grade = \"Fail\"\n",
    "print(grade)"
   ]
  },
  {
   "cell_type": "markdown",
   "metadata": {},
   "source": [
    "#### 연습 문제 3.2.13\n",
    "#### 두 명의 범죄자 A, B가 체포되어 서로 다른 취조실에서 격리되어 심문을 받고 있다. 이들에게 자백 여부에 따라 다음의 선택이 가능하다.  둘 중 하나가 배신하여 죄를 자백하면 자백한 사람은 즉시 풀어주고 나머지 한 명이 10년을 복역해야 한다. 둘  모두 서로를 배신하여 죄를 자백하면 둘 다 5년을 복역한다.  둘 모두 죄를 자백하지 않으면 둘 다 1년을 복역한다. 수를 나타내는 변수 XA, XB는 자백하면 True, 그렇지 않으면 False를 가지는 값이다. 이때 변수 XA, XB 값에 따라 각각이 복역해야 하는 연 수를 변수 YA, YB라고 할 때 YA, YB를 계산하는 프로그램을 만든다."
   ]
  },
  {
   "cell_type": "code",
   "execution_count": 12,
   "metadata": {},
   "outputs": [
    {
     "name": "stdout",
     "output_type": "stream",
     "text": [
      "1 1\n"
     ]
    }
   ],
   "source": [
    "XA = False\n",
    "XB = False\n",
    "\n",
    "if XA == True:\n",
    "    if XB == True:\n",
    "        YA = 5\n",
    "        YB = 5\n",
    "    else:\n",
    "        YA = 0\n",
    "        YB = 10\n",
    "if XA == False:\n",
    "    if XB == True:\n",
    "        YA = 10\n",
    "        YB = 0\n",
    "    else:\n",
    "        YA = 1\n",
    "        YB = 1\n",
    "        \n",
    "print(YA,YB)"
   ]
  },
  {
   "cell_type": "code",
   "execution_count": null,
   "metadata": {},
   "outputs": [],
   "source": []
  }
 ],
 "metadata": {
  "kernelspec": {
   "display_name": "Python 3",
   "language": "python",
   "name": "python3"
  },
  "language_info": {
   "codemirror_mode": {
    "name": "ipython",
    "version": 3
   },
   "file_extension": ".py",
   "mimetype": "text/x-python",
   "name": "python",
   "nbconvert_exporter": "python",
   "pygments_lexer": "ipython3",
   "version": "3.7.4"
  }
 },
 "nbformat": 4,
 "nbformat_minor": 2
}
