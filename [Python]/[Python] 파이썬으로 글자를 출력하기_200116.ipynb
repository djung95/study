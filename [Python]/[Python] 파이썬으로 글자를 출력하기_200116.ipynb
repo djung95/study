{
 "cells": [
  {
   "cell_type": "markdown",
   "metadata": {},
   "source": [
    "#### 파이썬으로 글자를 출력하기"
   ]
  },
  {
   "cell_type": "markdown",
   "metadata": {},
   "source": [
    "#### 여러 줄의 문자열 출력하기"
   ]
  },
  {
   "cell_type": "markdown",
   "metadata": {},
   "source": [
    "#### 연습 문제 1\n",
    "\n",
    "#### 1. 다음 문장을 출력해 본다.\n",
    "\n",
    "#### Beautiful is better than ugly.\n",
    "#### Explicit is better than implicit.\n",
    "#### Simple is better than complex.\n",
    "#### Complex is better than complicated.\n",
    "#### Flat is better than nested.\n",
    "#### Sparse is better than dense.\n",
    "\n",
    "#### 2. 문자열 변수 하나, 정수형 변수 하나 그리고 문자열의 덧셈과 곱셈 연산을 사용하여 다음 문자열을 출력한다.\n",
    "\n",
    "#### @@@@@@\n",
    "#### @    @\n",
    "#### @    @\n",
    "#### @    @\n",
    "#### @@@@@@"
   ]
  },
  {
   "cell_type": "code",
   "execution_count": 1,
   "metadata": {},
   "outputs": [],
   "source": [
    "multi_line_string = \"\"\"Beautiful is better than ugly.\n",
    "Explicit is better than implicit.\n",
    "Simple is better than complex.\n",
    "Complex is better than complicated.\n",
    "Flat is better than nested.\n",
    "Sparse is better than dense.\"\"\""
   ]
  },
  {
   "cell_type": "code",
   "execution_count": 2,
   "metadata": {},
   "outputs": [
    {
     "name": "stdout",
     "output_type": "stream",
     "text": [
      "Beautiful is better than ugly.\n",
      "Explicit is better than implicit.\n",
      "Simple is better than complex.\n",
      "Complex is better than complicated.\n",
      "Flat is better than nested.\n",
      "Sparse is better than dense. \n"
     ]
    }
   ],
   "source": [
    "print(multi_line_string)"
   ]
  }
 ],
 "metadata": {
  "kernelspec": {
   "display_name": "Python 3",
   "language": "python",
   "name": "python3"
  },
  "language_info": {
   "codemirror_mode": {
    "name": "ipython",
    "version": 3
   },
   "file_extension": ".py",
   "mimetype": "text/x-python",
   "name": "python",
   "nbconvert_exporter": "python",
   "pygments_lexer": "ipython3",
   "version": "3.7.4"
  }
 },
 "nbformat": 4,
 "nbformat_minor": 2
}
