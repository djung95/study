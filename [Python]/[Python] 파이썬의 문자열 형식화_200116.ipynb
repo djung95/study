{
 "cells": [
  {
   "cell_type": "markdown",
   "metadata": {},
   "source": [
    "#### 파이썬의 문자열 형식화"
   ]
  },
  {
   "cell_type": "markdown",
   "metadata": {},
   "source": [
    "#### 연습 문제 1\n",
    "\n",
    "#### 1. name과 age라는 변수에 각각 이름과 나이를 넣고 다음과 같이 출력하는 코드를 만들어라\n",
    "#### Tom is 13 years old\n",
    "\n",
    "#### 2. a, b라는 변수에 10과 3이라는 값을 대입하라. 이 변수 a, b와 문자열 형식화를 사용하여 다음과 같은 문자열을 출력하는 코드를 만들어라.\n",
    "#### 10 / 3 = 3.333\n"
   ]
  },
  {
   "cell_type": "code",
   "execution_count": 1,
   "metadata": {},
   "outputs": [
    {
     "name": "stdout",
     "output_type": "stream",
     "text": [
      "Tom is 13 years old\n"
     ]
    }
   ],
   "source": [
    "name = \"Tom\"\n",
    "age =13 \n",
    "\n",
    "print(\"%s is %d years old\"%(name, age))"
   ]
  },
  {
   "cell_type": "code",
   "execution_count": 6,
   "metadata": {},
   "outputs": [
    {
     "name": "stdout",
     "output_type": "stream",
     "text": [
      "10 / 3 = 3.333\n"
     ]
    }
   ],
   "source": [
    "a = 10\n",
    "b =  3\n",
    "\n",
    "print(\"%d / %d = %0.3f\"%(a, b, a/b))"
   ]
  },
  {
   "cell_type": "markdown",
   "metadata": {},
   "source": [
    "#### 고급 형식지정 문자열"
   ]
  },
  {
   "cell_type": "code",
   "execution_count": 7,
   "metadata": {},
   "outputs": [
    {
     "data": {
      "text/plain": [
       "'[                   *]'"
      ]
     },
     "execution_count": 7,
     "metadata": {},
     "output_type": "execute_result"
    }
   ],
   "source": [
    "\"[%20s]\" % \"*\" #[와 ] 사이에 20칸의 공백이 있다"
   ]
  },
  {
   "cell_type": "code",
   "execution_count": 8,
   "metadata": {},
   "outputs": [
    {
     "data": {
      "text/plain": [
       "'[A                   ]'"
      ]
     },
     "execution_count": 8,
     "metadata": {},
     "output_type": "execute_result"
    }
   ],
   "source": [
    "\"[%-20s]\" % \"A\" #[와 ] 사이에 20칸의 공백이 있다"
   ]
  },
  {
   "cell_type": "code",
   "execution_count": 9,
   "metadata": {},
   "outputs": [
    {
     "data": {
      "text/plain": [
       "'[                 123]'"
      ]
     },
     "execution_count": 9,
     "metadata": {},
     "output_type": "execute_result"
    }
   ],
   "source": [
    "\"[%20s]\" % \"123\" #[와 ] 사이에 20칸의 공백이 있다"
   ]
  },
  {
   "cell_type": "code",
   "execution_count": 10,
   "metadata": {},
   "outputs": [
    {
     "data": {
      "text/plain": [
       "'[123                 ]'"
      ]
     },
     "execution_count": 10,
     "metadata": {},
     "output_type": "execute_result"
    }
   ],
   "source": [
    "\"[%-20s]\" % \"123\" #[와 ] 사이에 20칸의 공백이 있다"
   ]
  },
  {
   "cell_type": "code",
   "execution_count": 13,
   "metadata": {},
   "outputs": [
    {
     "data": {
      "text/plain": [
       "'0.33333'"
      ]
     },
     "execution_count": 13,
     "metadata": {},
     "output_type": "execute_result"
    }
   ],
   "source": [
    "x = 1/3.0 #값은 0.33333....\n",
    "\"%0.5f\" %x #소숫점 아래 5자리까지만 인쇄한다."
   ]
  },
  {
   "cell_type": "code",
   "execution_count": 15,
   "metadata": {},
   "outputs": [
    {
     "data": {
      "text/plain": [
       "'[0.333333            ]'"
      ]
     },
     "execution_count": 15,
     "metadata": {},
     "output_type": "execute_result"
    }
   ],
   "source": [
    "\"[%-20.6f]\"%x #공백 크기와 소숫점 아래 자리수 같이 지정"
   ]
  },
  {
   "cell_type": "markdown",
   "metadata": {},
   "source": [
    "#### format 메서드를 사용한 문자열 형식화"
   ]
  },
  {
   "cell_type": "code",
   "execution_count": 18,
   "metadata": {},
   "outputs": [
    {
     "data": {
      "text/plain": [
       "'내 이름은 홍길동입니다.'"
      ]
     },
     "execution_count": 18,
     "metadata": {},
     "output_type": "execute_result"
    }
   ],
   "source": [
    "\"내 이름은 {}입니다.\".format(\"홍길동\")"
   ]
  },
  {
   "cell_type": "code",
   "execution_count": 20,
   "metadata": {},
   "outputs": [
    {
     "data": {
      "text/plain": [
       "'철수의 수학점수는 100점입니다.100점! 100점!'"
      ]
     },
     "execution_count": 20,
     "metadata": {},
     "output_type": "execute_result"
    }
   ],
   "source": [
    "\"{2}의 {0}점수는 {1}점입니다.{1}점! {1}점!\".format(\"수학\",100,\"철수\")"
   ]
  },
  {
   "cell_type": "code",
   "execution_count": 22,
   "metadata": {},
   "outputs": [
    {
     "data": {
      "text/plain": [
       "'[*                   ]'"
      ]
     },
     "execution_count": 22,
     "metadata": {},
     "output_type": "execute_result"
    }
   ],
   "source": [
    "\"[{:<20}]\".format(\"*\") #전체 20칸을 차지하면서 공백을 뒤에 붙임"
   ]
  },
  {
   "cell_type": "code",
   "execution_count": 23,
   "metadata": {},
   "outputs": [
    {
     "data": {
      "text/plain": [
       "'[                   *]'"
      ]
     },
     "execution_count": 23,
     "metadata": {},
     "output_type": "execute_result"
    }
   ],
   "source": [
    "\"[{:>20}]\".format(\"*\") #전체 20칸을 차지하면서 공백을 앞에 붙임"
   ]
  },
  {
   "cell_type": "code",
   "execution_count": 24,
   "metadata": {},
   "outputs": [
    {
     "data": {
      "text/plain": [
       "'[             0.33333]'"
      ]
     },
     "execution_count": 24,
     "metadata": {},
     "output_type": "execute_result"
    }
   ],
   "source": [
    "\"[{:20.5f}]\".format(1/3) #전체 20칸을 차지하면서 소수점 아래 5자리까지 표시"
   ]
  },
  {
   "cell_type": "code",
   "execution_count": 26,
   "metadata": {},
   "outputs": [
    {
     "data": {
      "text/plain": [
       "'[       1,234,567,890]'"
      ]
     },
     "execution_count": 26,
     "metadata": {},
     "output_type": "execute_result"
    }
   ],
   "source": [
    "\"[{:20,}]\".format(1234567890) #전체 20칸을 차지하면서 천단위 쉼표 표시"
   ]
  },
  {
   "cell_type": "markdown",
   "metadata": {},
   "source": [
    "#### 연습 문제 2\n",
    "#### 1. a, b 두 개의 변수에 3과 12라는 값을 넣고 이 변수를 사용하여 다음과 같이 세로셈으로 곱셈 결과를 출력하는 코드를 만들어라.\n",
    "\n",
    "#### 2. a, b 두 개의 변수에 \"123456\"과 \"7890\"라는 값을 넣고 이 변수를 사용하여 다음과 같이 세로셈으로 덧셈 결과를 출력하는 코드를 만들어라. 천의 자리 쉼표를 표시해야 한다."
   ]
  },
  {
   "cell_type": "code",
   "execution_count": 33,
   "metadata": {},
   "outputs": [
    {
     "name": "stdout",
     "output_type": "stream",
     "text": [
      "      3\n",
      "x    12\n",
      "--------\n",
      "     36\n"
     ]
    }
   ],
   "source": [
    "a = 3\n",
    "b = 12\n",
    "\n",
    "print(\"%7d\"%a)\n",
    "print(\"%s %5d\"%(\"x\",b))\n",
    "print(\"%s\"%\"-\"*8)\n",
    "print(\"%7d\"%(a*b))"
   ]
  },
  {
   "cell_type": "code",
   "execution_count": 51,
   "metadata": {},
   "outputs": [
    {
     "name": "stdout",
     "output_type": "stream",
     "text": [
      "123,456\n",
      "7,890\n",
      "--------\n",
      "131,346\n"
     ]
    }
   ],
   "source": [
    "a = 123456\n",
    "b = 7890\n",
    "\n",
    "print(\"{:7,}\".format(a))\n",
    "print(\"{:5,}\".format(b))\n",
    "print(\"%s\"%\"-\"*8)\n",
    "print(\"{:7,}\".format(a+b))"
   ]
  },
  {
   "cell_type": "code",
   "execution_count": 44,
   "metadata": {},
   "outputs": [
    {
     "name": "stdout",
     "output_type": "stream",
     "text": [
      "--------\n"
     ]
    }
   ],
   "source": []
  },
  {
   "cell_type": "code",
   "execution_count": null,
   "metadata": {},
   "outputs": [],
   "source": []
  }
 ],
 "metadata": {
  "kernelspec": {
   "display_name": "Python 3",
   "language": "python",
   "name": "python3"
  },
  "language_info": {
   "codemirror_mode": {
    "name": "ipython",
    "version": 3
   },
   "file_extension": ".py",
   "mimetype": "text/x-python",
   "name": "python",
   "nbconvert_exporter": "python",
   "pygments_lexer": "ipython3",
   "version": "3.7.4"
  }
 },
 "nbformat": 4,
 "nbformat_minor": 2
}
